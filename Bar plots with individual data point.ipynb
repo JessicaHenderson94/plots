{
 "cells": [
  {
   "cell_type": "markdown",
   "metadata": {},
   "source": [
    "# Create bar plots with individual data and SD error bars"
   ]
  },
  {
   "cell_type": "markdown",
   "metadata": {},
   "source": [
    "Import modules"
   ]
  },
  {
   "cell_type": "code",
   "execution_count": 61,
   "metadata": {},
   "outputs": [],
   "source": [
    "import pandas as pd\n",
    "import seaborn as sns\n",
    "#sns.set(style=\"white\",font_scale=2)\n",
    "import matplotlib.pyplot as plt"
   ]
  },
  {
   "cell_type": "markdown",
   "metadata": {},
   "source": [
    "Read in data"
   ]
  },
  {
   "cell_type": "code",
   "execution_count": 111,
   "metadata": {},
   "outputs": [],
   "source": [
    "path = \"C:\\Data\\Danielle\\LFS\\exports-for-ms\\lfs-intensity\\\\\"\n",
    "fileName  = \"lfs_ECD3_111_137\" \n",
    "fileType = \".xlsx\"\n",
    "\n",
    "df = pd.read_excel (path + fileName + fileType)\n",
    "\n",
    "xAxis= \"Intensity\" #Specify the name of your x axis, this should matach the df\n",
    "yAxis = \"nAm\" #specify the name of your y axis, this should match the df\n",
    "\n",
    "figSize = 1.4\n",
    "timesSmaller = 10/figSize\n",
    "lW = 1.5/timesSmaller\n",
    "dotsize = 13/timesSmaller\n",
    "eW = 3.57/timesSmaller\n",
    "spineW = 1/timesSmaller\n",
    "sns.set(style=\"white\",font_scale=2/timesSmaller)"
   ]
  },
  {
   "cell_type": "markdown",
   "metadata": {},
   "source": [
    "Create plots"
   ]
  },
  {
   "cell_type": "code",
   "execution_count": 116,
   "metadata": {},
   "outputs": [
    {
     "data": {
      "image/png": "[encoded data removed]",
      "text/plain": [
       "<Figure size 100.8x100.8 with 1 Axes>"
      ]
     },
     "metadata": {},
     "output_type": "display_data"
    }
   ],
   "source": [
    "f, ax = plt.subplots(figsize=(figSize, figSize)) # in inches\n",
    "ax.spines[\"top\"].set_visible(False)\n",
    "ax.spines[\"right\"].set_visible(False)\n",
    "ax.spines['bottom'].set_color('Black')\n",
    "ax.spines['bottom'].set_linewidth(eW)\n",
    "ax.spines['left'].set_color('Black')\n",
    "ax.spines['left'].set_linewidth(eW)\n",
    "ax.tick_params(axis='both', which='both', pad=-4)\n",
    "ax.xaxis.labelpad = 1\n",
    "ax.yaxis.labelpad = 1\n",
    "\n",
    "# Draw the bar chart\n",
    "ax = sns.barplot(\n",
    "    data=df, \n",
    "    x= xAxis, \n",
    "    y= yAxis, \n",
    "    errcolor=\"black\",\n",
    "    edgecolor=\"black\", \n",
    "    linewidth=eW,\n",
    "    palette=\"Spectral\",\n",
    "    ci='sd', # plot SD bars\n",
    "    errwidth = eW\n",
    ")\n",
    "\n",
    "# Draw the individual data points\n",
    "sns.stripplot(\n",
    "    data=df, \n",
    "    x= xAxis, \n",
    "    y= yAxis,  \n",
    "    edgecolor=\"black\", \n",
    "    palette=\"Spectral\",\n",
    "    linewidth=lW,\n",
    "    size = dotsize\n",
    "\n",
    ")\n",
    "\n",
    "plt.savefig(path + fileName +\".eps\")"
   ]
  },
  {
   "cell_type": "code",
   "execution_count": null,
   "metadata": {},
   "outputs": [],
   "source": []
  }
 ],
 "metadata": {
  "kernelspec": {
   "display_name": "Python 3",
   "language": "python",
   "name": "python3"
  },
  "language_info": {
   "codemirror_mode": {
    "name": "ipython",
    "version": 3
   },
   "file_extension": ".py",
   "mimetype": "text/x-python",
   "name": "python",
   "nbconvert_exporter": "python",
   "pygments_lexer": "ipython3",
   "version": "3.7.1"
  }
 },
 "nbformat": 4,
 "nbformat_minor": 2
}
